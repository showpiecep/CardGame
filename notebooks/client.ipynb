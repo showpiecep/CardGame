{
 "cells": [
  {
   "cell_type": "code",
   "execution_count": null,
   "metadata": {},
   "outputs": [],
   "source": [
    "import datetime\n",
    "\n",
    "import requests\n",
    "from PIL import Image\n",
    "\n",
    "from cardgame.detector.client import DetectorClient\n",
    "\n",
    "image = Image.open(\n",
    "    requests.get(\"https://www.pagat.com/images/beating/durak.jpg\", stream=True).raw\n",
    ").convert(\"RGB\")\n",
    "start = datetime.datetime.now()\n",
    "tmp = DetectorClient().predict(image)\n",
    "elapsed = datetime.datetime.now() - start\n",
    "\n",
    "seconds = elapsed.total_seconds()\n",
    "print(f\"Execution time: {seconds:.4f} seconds\")"
   ]
  },
  {
   "cell_type": "code",
   "execution_count": null,
   "metadata": {},
   "outputs": [],
   "source": [
    "image.crop(tmp.sorted_bboxes[7].box.xyxy)"
   ]
  },
  {
   "cell_type": "code",
   "execution_count": null,
   "metadata": {},
   "outputs": [],
   "source": [
    "from PIL import Image, ImageDraw\n",
    "\n",
    "idx = 1\n",
    "draw = ImageDraw.Draw(image)\n",
    "draw.rectangle(\n",
    "    tmp.sorted_bboxes[7].box.xyxy2plot,\n",
    "    outline=\"red\",\n",
    ")\n",
    "draw._image"
   ]
  }
 ],
 "metadata": {
  "kernelspec": {
   "display_name": ".venv",
   "language": "python",
   "name": "python3"
  },
  "language_info": {
   "codemirror_mode": {
    "name": "ipython",
    "version": 3
   },
   "file_extension": ".py",
   "mimetype": "text/x-python",
   "name": "python",
   "nbconvert_exporter": "python",
   "pygments_lexer": "ipython3",
   "version": "3.12.3"
  }
 },
 "nbformat": 4,
 "nbformat_minor": 2
}
